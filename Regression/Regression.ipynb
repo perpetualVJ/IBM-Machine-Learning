{
 "cells": [
  {
   "cell_type": "markdown",
   "metadata": {},
   "source": [
    "# Regression on Real Estate Dataset"
   ]
  },
  {
   "cell_type": "markdown",
   "metadata": {},
   "source": [
    "### Objective"
   ]
  },
  {
   "cell_type": "markdown",
   "metadata": {},
   "source": [
    "The main objective of the analysis is prediction of price per unit area variable given its features."
   ]
  },
  {
   "cell_type": "markdown",
   "metadata": {},
   "source": [
    "### Introduction"
   ]
  },
  {
   "cell_type": "markdown",
   "metadata": {},
   "source": [
    "Real Estate price prediction is a dataset originally compiled for regression analysis, linear regression, multiple regression, and predictive tasks. The dataset consists of purchase date, age of property, location, house price of unit area, and distance to nearest station.\n",
    "\n",
    "The dataset is obtained from <a href = \"https://www.kaggle.com/quantbruce/real-estate-price-prediction\">Kaggle</a> by <b>bruce."
   ]
  },
  {
   "cell_type": "code",
   "execution_count": 1,
   "metadata": {},
   "outputs": [],
   "source": [
    "#Loading libraries\n",
    "import numpy as np  #Numerical Python library\n",
    "import pandas as pd #Data Analysis library\n",
    "import matplotlib.pyplot as plt  #Data Visualization library\n",
    "import seaborn as sns #Data Visualization library"
   ]
  },
  {
   "cell_type": "code",
   "execution_count": 143,
   "metadata": {},
   "outputs": [],
   "source": [
    "#Loading dataset\n",
    "df = pd.read_csv(\"data/Real estate.csv\")"
   ]
  },
  {
   "cell_type": "code",
   "execution_count": 144,
   "metadata": {
    "scrolled": true
   },
   "outputs": [
    {
     "name": "stdout",
     "output_type": "stream",
     "text": [
      "First five rows of dataset\n"
     ]
    },
    {
     "data": {
      "text/html": [
       "<div>\n",
       "<style scoped>\n",
       "    .dataframe tbody tr th:only-of-type {\n",
       "        vertical-align: middle;\n",
       "    }\n",
       "\n",
       "    .dataframe tbody tr th {\n",
       "        vertical-align: top;\n",
       "    }\n",
       "\n",
       "    .dataframe thead th {\n",
       "        text-align: right;\n",
       "    }\n",
       "</style>\n",
       "<table border=\"1\" class=\"dataframe\">\n",
       "  <thead>\n",
       "    <tr style=\"text-align: right;\">\n",
       "      <th></th>\n",
       "      <th>No</th>\n",
       "      <th>X1 transaction date</th>\n",
       "      <th>X2 house age</th>\n",
       "      <th>X3 distance to the nearest MRT station</th>\n",
       "      <th>X4 number of convenience stores</th>\n",
       "      <th>X5 latitude</th>\n",
       "      <th>X6 longitude</th>\n",
       "      <th>Y house price of unit area</th>\n",
       "    </tr>\n",
       "  </thead>\n",
       "  <tbody>\n",
       "    <tr>\n",
       "      <td>0</td>\n",
       "      <td>1</td>\n",
       "      <td>2012.917</td>\n",
       "      <td>32.0</td>\n",
       "      <td>84.87882</td>\n",
       "      <td>10</td>\n",
       "      <td>24.98298</td>\n",
       "      <td>121.54024</td>\n",
       "      <td>37.9</td>\n",
       "    </tr>\n",
       "    <tr>\n",
       "      <td>1</td>\n",
       "      <td>2</td>\n",
       "      <td>2012.917</td>\n",
       "      <td>19.5</td>\n",
       "      <td>306.59470</td>\n",
       "      <td>9</td>\n",
       "      <td>24.98034</td>\n",
       "      <td>121.53951</td>\n",
       "      <td>42.2</td>\n",
       "    </tr>\n",
       "    <tr>\n",
       "      <td>2</td>\n",
       "      <td>3</td>\n",
       "      <td>2013.583</td>\n",
       "      <td>13.3</td>\n",
       "      <td>561.98450</td>\n",
       "      <td>5</td>\n",
       "      <td>24.98746</td>\n",
       "      <td>121.54391</td>\n",
       "      <td>47.3</td>\n",
       "    </tr>\n",
       "    <tr>\n",
       "      <td>3</td>\n",
       "      <td>4</td>\n",
       "      <td>2013.500</td>\n",
       "      <td>13.3</td>\n",
       "      <td>561.98450</td>\n",
       "      <td>5</td>\n",
       "      <td>24.98746</td>\n",
       "      <td>121.54391</td>\n",
       "      <td>54.8</td>\n",
       "    </tr>\n",
       "    <tr>\n",
       "      <td>4</td>\n",
       "      <td>5</td>\n",
       "      <td>2012.833</td>\n",
       "      <td>5.0</td>\n",
       "      <td>390.56840</td>\n",
       "      <td>5</td>\n",
       "      <td>24.97937</td>\n",
       "      <td>121.54245</td>\n",
       "      <td>43.1</td>\n",
       "    </tr>\n",
       "  </tbody>\n",
       "</table>\n",
       "</div>"
      ],
      "text/plain": [
       "   No  X1 transaction date  X2 house age  \\\n",
       "0   1             2012.917          32.0   \n",
       "1   2             2012.917          19.5   \n",
       "2   3             2013.583          13.3   \n",
       "3   4             2013.500          13.3   \n",
       "4   5             2012.833           5.0   \n",
       "\n",
       "   X3 distance to the nearest MRT station  X4 number of convenience stores  \\\n",
       "0                                84.87882                               10   \n",
       "1                               306.59470                                9   \n",
       "2                               561.98450                                5   \n",
       "3                               561.98450                                5   \n",
       "4                               390.56840                                5   \n",
       "\n",
       "   X5 latitude  X6 longitude  Y house price of unit area  \n",
       "0     24.98298     121.54024                        37.9  \n",
       "1     24.98034     121.53951                        42.2  \n",
       "2     24.98746     121.54391                        47.3  \n",
       "3     24.98746     121.54391                        54.8  \n",
       "4     24.97937     121.54245                        43.1  "
      ]
     },
     "execution_count": 144,
     "metadata": {},
     "output_type": "execute_result"
    }
   ],
   "source": [
    "#First five rows of dataset\n",
    "print('First five rows of dataset')\n",
    "df.head(5)"
   ]
  },
  {
   "cell_type": "code",
   "execution_count": 4,
   "metadata": {},
   "outputs": [
    {
     "name": "stdout",
     "output_type": "stream",
     "text": [
      "There are 414 rows and 8 columns in dataset.\n"
     ]
    }
   ],
   "source": [
    "#Shape\n",
    "print(f'There are {df.shape[0]} rows and {df.shape[1]} columns in dataset.')"
   ]
  },
  {
   "cell_type": "markdown",
   "metadata": {},
   "source": [
    "### Descriptive statistics"
   ]
  },
  {
   "cell_type": "markdown",
   "metadata": {},
   "source": [
    "Descriptive statistics are those that summarizes the dataset and provide some quick insights."
   ]
  },
  {
   "cell_type": "code",
   "execution_count": 5,
   "metadata": {},
   "outputs": [
    {
     "name": "stdout",
     "output_type": "stream",
     "text": [
      "Summary table\n"
     ]
    },
    {
     "data": {
      "text/html": [
       "<div>\n",
       "<style scoped>\n",
       "    .dataframe tbody tr th:only-of-type {\n",
       "        vertical-align: middle;\n",
       "    }\n",
       "\n",
       "    .dataframe tbody tr th {\n",
       "        vertical-align: top;\n",
       "    }\n",
       "\n",
       "    .dataframe thead th {\n",
       "        text-align: right;\n",
       "    }\n",
       "</style>\n",
       "<table border=\"1\" class=\"dataframe\">\n",
       "  <thead>\n",
       "    <tr style=\"text-align: right;\">\n",
       "      <th></th>\n",
       "      <th>No</th>\n",
       "      <th>X1 transaction date</th>\n",
       "      <th>X2 house age</th>\n",
       "      <th>X3 distance to the nearest MRT station</th>\n",
       "      <th>X4 number of convenience stores</th>\n",
       "      <th>X5 latitude</th>\n",
       "      <th>X6 longitude</th>\n",
       "      <th>Y house price of unit area</th>\n",
       "    </tr>\n",
       "  </thead>\n",
       "  <tbody>\n",
       "    <tr>\n",
       "      <td>count</td>\n",
       "      <td>414.000000</td>\n",
       "      <td>414.000000</td>\n",
       "      <td>414.000000</td>\n",
       "      <td>414.000000</td>\n",
       "      <td>414.000000</td>\n",
       "      <td>414.000000</td>\n",
       "      <td>414.000000</td>\n",
       "      <td>414.000000</td>\n",
       "    </tr>\n",
       "    <tr>\n",
       "      <td>mean</td>\n",
       "      <td>207.500000</td>\n",
       "      <td>2013.148971</td>\n",
       "      <td>17.712560</td>\n",
       "      <td>1083.885689</td>\n",
       "      <td>4.094203</td>\n",
       "      <td>24.969030</td>\n",
       "      <td>121.533361</td>\n",
       "      <td>37.980193</td>\n",
       "    </tr>\n",
       "    <tr>\n",
       "      <td>std</td>\n",
       "      <td>119.655756</td>\n",
       "      <td>0.281967</td>\n",
       "      <td>11.392485</td>\n",
       "      <td>1262.109595</td>\n",
       "      <td>2.945562</td>\n",
       "      <td>0.012410</td>\n",
       "      <td>0.015347</td>\n",
       "      <td>13.606488</td>\n",
       "    </tr>\n",
       "    <tr>\n",
       "      <td>min</td>\n",
       "      <td>1.000000</td>\n",
       "      <td>2012.667000</td>\n",
       "      <td>0.000000</td>\n",
       "      <td>23.382840</td>\n",
       "      <td>0.000000</td>\n",
       "      <td>24.932070</td>\n",
       "      <td>121.473530</td>\n",
       "      <td>7.600000</td>\n",
       "    </tr>\n",
       "    <tr>\n",
       "      <td>25%</td>\n",
       "      <td>104.250000</td>\n",
       "      <td>2012.917000</td>\n",
       "      <td>9.025000</td>\n",
       "      <td>289.324800</td>\n",
       "      <td>1.000000</td>\n",
       "      <td>24.963000</td>\n",
       "      <td>121.528085</td>\n",
       "      <td>27.700000</td>\n",
       "    </tr>\n",
       "    <tr>\n",
       "      <td>50%</td>\n",
       "      <td>207.500000</td>\n",
       "      <td>2013.167000</td>\n",
       "      <td>16.100000</td>\n",
       "      <td>492.231300</td>\n",
       "      <td>4.000000</td>\n",
       "      <td>24.971100</td>\n",
       "      <td>121.538630</td>\n",
       "      <td>38.450000</td>\n",
       "    </tr>\n",
       "    <tr>\n",
       "      <td>75%</td>\n",
       "      <td>310.750000</td>\n",
       "      <td>2013.417000</td>\n",
       "      <td>28.150000</td>\n",
       "      <td>1454.279000</td>\n",
       "      <td>6.000000</td>\n",
       "      <td>24.977455</td>\n",
       "      <td>121.543305</td>\n",
       "      <td>46.600000</td>\n",
       "    </tr>\n",
       "    <tr>\n",
       "      <td>max</td>\n",
       "      <td>414.000000</td>\n",
       "      <td>2013.583000</td>\n",
       "      <td>43.800000</td>\n",
       "      <td>6488.021000</td>\n",
       "      <td>10.000000</td>\n",
       "      <td>25.014590</td>\n",
       "      <td>121.566270</td>\n",
       "      <td>117.500000</td>\n",
       "    </tr>\n",
       "  </tbody>\n",
       "</table>\n",
       "</div>"
      ],
      "text/plain": [
       "               No  X1 transaction date  X2 house age  \\\n",
       "count  414.000000           414.000000    414.000000   \n",
       "mean   207.500000          2013.148971     17.712560   \n",
       "std    119.655756             0.281967     11.392485   \n",
       "min      1.000000          2012.667000      0.000000   \n",
       "25%    104.250000          2012.917000      9.025000   \n",
       "50%    207.500000          2013.167000     16.100000   \n",
       "75%    310.750000          2013.417000     28.150000   \n",
       "max    414.000000          2013.583000     43.800000   \n",
       "\n",
       "       X3 distance to the nearest MRT station  \\\n",
       "count                              414.000000   \n",
       "mean                              1083.885689   \n",
       "std                               1262.109595   \n",
       "min                                 23.382840   \n",
       "25%                                289.324800   \n",
       "50%                                492.231300   \n",
       "75%                               1454.279000   \n",
       "max                               6488.021000   \n",
       "\n",
       "       X4 number of convenience stores  X5 latitude  X6 longitude  \\\n",
       "count                       414.000000   414.000000    414.000000   \n",
       "mean                          4.094203    24.969030    121.533361   \n",
       "std                           2.945562     0.012410      0.015347   \n",
       "min                           0.000000    24.932070    121.473530   \n",
       "25%                           1.000000    24.963000    121.528085   \n",
       "50%                           4.000000    24.971100    121.538630   \n",
       "75%                           6.000000    24.977455    121.543305   \n",
       "max                          10.000000    25.014590    121.566270   \n",
       "\n",
       "       Y house price of unit area  \n",
       "count                  414.000000  \n",
       "mean                    37.980193  \n",
       "std                     13.606488  \n",
       "min                      7.600000  \n",
       "25%                     27.700000  \n",
       "50%                     38.450000  \n",
       "75%                     46.600000  \n",
       "max                    117.500000  "
      ]
     },
     "execution_count": 5,
     "metadata": {},
     "output_type": "execute_result"
    }
   ],
   "source": [
    "#Summary\n",
    "\n",
    "print('Summary table')\n",
    "df.describe()"
   ]
  },
  {
   "cell_type": "markdown",
   "metadata": {},
   "source": [
    "The mean price of unit area of house is $ 37.98K"
   ]
  },
  {
   "cell_type": "markdown",
   "metadata": {},
   "source": [
    "### Data Cleaning"
   ]
  },
  {
   "cell_type": "markdown",
   "metadata": {},
   "source": [
    "Data Cleaning is the process of converting the raw data into the form which aids in the process of analysis.\n",
    "\n",
    "Data Cleaning methodology is as follows:-\n",
    "\n",
    "1. Changing column names.\n",
    "2. Handling missing values.\n",
    "3. Feature Engineering\n",
    "4. Dropping Irrelevent attributes.\n",
    "5. Dropping Duplicate rows."
   ]
  },
  {
   "cell_type": "markdown",
   "metadata": {},
   "source": [
    "###### 1. Changing column names"
   ]
  },
  {
   "cell_type": "markdown",
   "metadata": {},
   "source": [
    "In dataset, with each column name some additional information is also associated signifying its role in prediction analytics.\n",
    "In this step of data cleaning column names are changed to appropriate ones."
   ]
  },
  {
   "cell_type": "code",
   "execution_count": 145,
   "metadata": {},
   "outputs": [
    {
     "data": {
      "text/html": [
       "<div>\n",
       "<style scoped>\n",
       "    .dataframe tbody tr th:only-of-type {\n",
       "        vertical-align: middle;\n",
       "    }\n",
       "\n",
       "    .dataframe tbody tr th {\n",
       "        vertical-align: top;\n",
       "    }\n",
       "\n",
       "    .dataframe thead th {\n",
       "        text-align: right;\n",
       "    }\n",
       "</style>\n",
       "<table border=\"1\" class=\"dataframe\">\n",
       "  <thead>\n",
       "    <tr style=\"text-align: right;\">\n",
       "      <th></th>\n",
       "      <th>No</th>\n",
       "      <th>Transaction date</th>\n",
       "      <th>Age</th>\n",
       "      <th>Distance from nearest MRT station</th>\n",
       "      <th>No. of convenience stores</th>\n",
       "      <th>Latitude</th>\n",
       "      <th>Longitude</th>\n",
       "      <th>Price/Area</th>\n",
       "    </tr>\n",
       "  </thead>\n",
       "  <tbody>\n",
       "    <tr>\n",
       "      <td>0</td>\n",
       "      <td>1</td>\n",
       "      <td>2012.917</td>\n",
       "      <td>32.0</td>\n",
       "      <td>84.87882</td>\n",
       "      <td>10</td>\n",
       "      <td>24.98298</td>\n",
       "      <td>121.54024</td>\n",
       "      <td>37.9</td>\n",
       "    </tr>\n",
       "    <tr>\n",
       "      <td>1</td>\n",
       "      <td>2</td>\n",
       "      <td>2012.917</td>\n",
       "      <td>19.5</td>\n",
       "      <td>306.59470</td>\n",
       "      <td>9</td>\n",
       "      <td>24.98034</td>\n",
       "      <td>121.53951</td>\n",
       "      <td>42.2</td>\n",
       "    </tr>\n",
       "    <tr>\n",
       "      <td>2</td>\n",
       "      <td>3</td>\n",
       "      <td>2013.583</td>\n",
       "      <td>13.3</td>\n",
       "      <td>561.98450</td>\n",
       "      <td>5</td>\n",
       "      <td>24.98746</td>\n",
       "      <td>121.54391</td>\n",
       "      <td>47.3</td>\n",
       "    </tr>\n",
       "    <tr>\n",
       "      <td>3</td>\n",
       "      <td>4</td>\n",
       "      <td>2013.500</td>\n",
       "      <td>13.3</td>\n",
       "      <td>561.98450</td>\n",
       "      <td>5</td>\n",
       "      <td>24.98746</td>\n",
       "      <td>121.54391</td>\n",
       "      <td>54.8</td>\n",
       "    </tr>\n",
       "    <tr>\n",
       "      <td>4</td>\n",
       "      <td>5</td>\n",
       "      <td>2012.833</td>\n",
       "      <td>5.0</td>\n",
       "      <td>390.56840</td>\n",
       "      <td>5</td>\n",
       "      <td>24.97937</td>\n",
       "      <td>121.54245</td>\n",
       "      <td>43.1</td>\n",
       "    </tr>\n",
       "  </tbody>\n",
       "</table>\n",
       "</div>"
      ],
      "text/plain": [
       "   No  Transaction date   Age  Distance from nearest MRT station  \\\n",
       "0   1          2012.917  32.0                           84.87882   \n",
       "1   2          2012.917  19.5                          306.59470   \n",
       "2   3          2013.583  13.3                          561.98450   \n",
       "3   4          2013.500  13.3                          561.98450   \n",
       "4   5          2012.833   5.0                          390.56840   \n",
       "\n",
       "   No. of convenience stores  Latitude  Longitude  Price/Area  \n",
       "0                         10  24.98298  121.54024        37.9  \n",
       "1                          9  24.98034  121.53951        42.2  \n",
       "2                          5  24.98746  121.54391        47.3  \n",
       "3                          5  24.98746  121.54391        54.8  \n",
       "4                          5  24.97937  121.54245        43.1  "
      ]
     },
     "execution_count": 145,
     "metadata": {},
     "output_type": "execute_result"
    }
   ],
   "source": [
    "#Changing column names\n",
    "col = ['No', 'Transaction date', 'Age', 'Distance from nearest MRT station', 'No. of convenience stores', 'Latitude',\\\n",
    "       'Longitude', 'Price/Area']\n",
    "\n",
    "df.columns = col\n",
    "\n",
    "#After cleaning\n",
    "df.head()"
   ]
  },
  {
   "cell_type": "markdown",
   "metadata": {},
   "source": [
    "##### 2. Handling missing values"
   ]
  },
  {
   "cell_type": "markdown",
   "metadata": {},
   "source": [
    "Looking for missing values in the dataset"
   ]
  },
  {
   "cell_type": "code",
   "execution_count": 146,
   "metadata": {},
   "outputs": [
    {
     "data": {
      "text/plain": [
       "No                                   0\n",
       "Transaction date                     0\n",
       "Age                                  0\n",
       "Distance from nearest MRT station    0\n",
       "No. of convenience stores            0\n",
       "Latitude                             0\n",
       "Longitude                            0\n",
       "Price/Area                           0\n",
       "dtype: int64"
      ]
     },
     "execution_count": 146,
     "metadata": {},
     "output_type": "execute_result"
    }
   ],
   "source": [
    "df.isnull().sum()"
   ]
  },
  {
   "cell_type": "code",
   "execution_count": 8,
   "metadata": {},
   "outputs": [
    {
     "data": {
      "text/plain": [
       "<matplotlib.axes._subplots.AxesSubplot at 0xef4f230>"
      ]
     },
     "execution_count": 8,
     "metadata": {},
     "output_type": "execute_result"
    },
    {
     "data": {
      "image/png": "[encoded data removed]",
      "text/plain": [
       "<Figure size 432x288 with 1 Axes>"
      ]
     },
     "metadata": {
      "needs_background": "light"
     },
     "output_type": "display_data"
    }
   ],
   "source": [
    "df['Age'].hist()"
   ]
  },
  {
   "cell_type": "markdown",
   "metadata": {},
   "source": [
    "There are no missing values in dataset. But there are some observations in which Age is numbered as 0. Since Age of 0 doesn't make sense, we will remove those rows."
   ]
  },
  {
   "cell_type": "code",
   "execution_count": 147,
   "metadata": {},
   "outputs": [
    {
     "data": {
      "text/html": [
       "<div>\n",
       "<style scoped>\n",
       "    .dataframe tbody tr th:only-of-type {\n",
       "        vertical-align: middle;\n",
       "    }\n",
       "\n",
       "    .dataframe tbody tr th {\n",
       "        vertical-align: top;\n",
       "    }\n",
       "\n",
       "    .dataframe thead th {\n",
       "        text-align: right;\n",
       "    }\n",
       "</style>\n",
       "<table border=\"1\" class=\"dataframe\">\n",
       "  <thead>\n",
       "    <tr style=\"text-align: right;\">\n",
       "      <th></th>\n",
       "      <th>No</th>\n",
       "      <th>Transaction date</th>\n",
       "      <th>Age</th>\n",
       "      <th>Distance from nearest MRT station</th>\n",
       "      <th>No. of convenience stores</th>\n",
       "      <th>Latitude</th>\n",
       "      <th>Longitude</th>\n",
       "      <th>Price/Area</th>\n",
       "    </tr>\n",
       "  </thead>\n",
       "  <tbody>\n",
       "    <tr>\n",
       "      <td>0</td>\n",
       "      <td>1</td>\n",
       "      <td>2012.917</td>\n",
       "      <td>32.0</td>\n",
       "      <td>84.87882</td>\n",
       "      <td>10</td>\n",
       "      <td>24.98298</td>\n",
       "      <td>121.54024</td>\n",
       "      <td>37.9</td>\n",
       "    </tr>\n",
       "    <tr>\n",
       "      <td>1</td>\n",
       "      <td>2</td>\n",
       "      <td>2012.917</td>\n",
       "      <td>19.5</td>\n",
       "      <td>306.59470</td>\n",
       "      <td>9</td>\n",
       "      <td>24.98034</td>\n",
       "      <td>121.53951</td>\n",
       "      <td>42.2</td>\n",
       "    </tr>\n",
       "    <tr>\n",
       "      <td>2</td>\n",
       "      <td>3</td>\n",
       "      <td>2013.583</td>\n",
       "      <td>13.3</td>\n",
       "      <td>561.98450</td>\n",
       "      <td>5</td>\n",
       "      <td>24.98746</td>\n",
       "      <td>121.54391</td>\n",
       "      <td>47.3</td>\n",
       "    </tr>\n",
       "    <tr>\n",
       "      <td>3</td>\n",
       "      <td>4</td>\n",
       "      <td>2013.500</td>\n",
       "      <td>13.3</td>\n",
       "      <td>561.98450</td>\n",
       "      <td>5</td>\n",
       "      <td>24.98746</td>\n",
       "      <td>121.54391</td>\n",
       "      <td>54.8</td>\n",
       "    </tr>\n",
       "    <tr>\n",
       "      <td>4</td>\n",
       "      <td>5</td>\n",
       "      <td>2012.833</td>\n",
       "      <td>5.0</td>\n",
       "      <td>390.56840</td>\n",
       "      <td>5</td>\n",
       "      <td>24.97937</td>\n",
       "      <td>121.54245</td>\n",
       "      <td>43.1</td>\n",
       "    </tr>\n",
       "  </tbody>\n",
       "</table>\n",
       "</div>"
      ],
      "text/plain": [
       "   No  Transaction date   Age  Distance from nearest MRT station  \\\n",
       "0   1          2012.917  32.0                           84.87882   \n",
       "1   2          2012.917  19.5                          306.59470   \n",
       "2   3          2013.583  13.3                          561.98450   \n",
       "3   4          2013.500  13.3                          561.98450   \n",
       "4   5          2012.833   5.0                          390.56840   \n",
       "\n",
       "   No. of convenience stores  Latitude  Longitude  Price/Area  \n",
       "0                         10  24.98298  121.54024        37.9  \n",
       "1                          9  24.98034  121.53951        42.2  \n",
       "2                          5  24.98746  121.54391        47.3  \n",
       "3                          5  24.98746  121.54391        54.8  \n",
       "4                          5  24.97937  121.54245        43.1  "
      ]
     },
     "execution_count": 147,
     "metadata": {},
     "output_type": "execute_result"
    }
   ],
   "source": [
    "df_new = df[df['Age'] != 0].reset_index()\n",
    "df_new.drop('index', axis = 1, inplace = True)\n",
    "df_new.head()"
   ]
  },
  {
   "cell_type": "markdown",
   "metadata": {},
   "source": [
    "##### 3. Feature Engineering"
   ]
  },
  {
   "cell_type": "markdown",
   "metadata": {},
   "source": [
    "Adding new feature Year in dataset"
   ]
  },
  {
   "cell_type": "code",
   "execution_count": 148,
   "metadata": {},
   "outputs": [],
   "source": [
    "df_new['Year'] = df_new['Transaction date'].map(str).apply(lambda x : x.split('.')).apply(lambda x : x[0]).map(int)"
   ]
  },
  {
   "cell_type": "code",
   "execution_count": 11,
   "metadata": {},
   "outputs": [
    {
     "data": {
      "text/html": [
       "<div>\n",
       "<style scoped>\n",
       "    .dataframe tbody tr th:only-of-type {\n",
       "        vertical-align: middle;\n",
       "    }\n",
       "\n",
       "    .dataframe tbody tr th {\n",
       "        vertical-align: top;\n",
       "    }\n",
       "\n",
       "    .dataframe thead th {\n",
       "        text-align: right;\n",
       "    }\n",
       "</style>\n",
       "<table border=\"1\" class=\"dataframe\">\n",
       "  <thead>\n",
       "    <tr style=\"text-align: right;\">\n",
       "      <th></th>\n",
       "      <th>No</th>\n",
       "      <th>Transaction date</th>\n",
       "      <th>Age</th>\n",
       "      <th>Distance from nearest MRT station</th>\n",
       "      <th>No. of convenience stores</th>\n",
       "      <th>Latitude</th>\n",
       "      <th>Longitude</th>\n",
       "      <th>Price/Area</th>\n",
       "    </tr>\n",
       "  </thead>\n",
       "  <tbody>\n",
       "    <tr>\n",
       "      <td>0</td>\n",
       "      <td>1</td>\n",
       "      <td>2012.917</td>\n",
       "      <td>32.0</td>\n",
       "      <td>84.87882</td>\n",
       "      <td>10</td>\n",
       "      <td>24.98298</td>\n",
       "      <td>121.54024</td>\n",
       "      <td>37.9</td>\n",
       "    </tr>\n",
       "    <tr>\n",
       "      <td>1</td>\n",
       "      <td>2</td>\n",
       "      <td>2012.917</td>\n",
       "      <td>19.5</td>\n",
       "      <td>306.59470</td>\n",
       "      <td>9</td>\n",
       "      <td>24.98034</td>\n",
       "      <td>121.53951</td>\n",
       "      <td>42.2</td>\n",
       "    </tr>\n",
       "    <tr>\n",
       "      <td>2</td>\n",
       "      <td>3</td>\n",
       "      <td>2013.583</td>\n",
       "      <td>13.3</td>\n",
       "      <td>561.98450</td>\n",
       "      <td>5</td>\n",
       "      <td>24.98746</td>\n",
       "      <td>121.54391</td>\n",
       "      <td>47.3</td>\n",
       "    </tr>\n",
       "    <tr>\n",
       "      <td>3</td>\n",
       "      <td>4</td>\n",
       "      <td>2013.500</td>\n",
       "      <td>13.3</td>\n",
       "      <td>561.98450</td>\n",
       "      <td>5</td>\n",
       "      <td>24.98746</td>\n",
       "      <td>121.54391</td>\n",
       "      <td>54.8</td>\n",
       "    </tr>\n",
       "    <tr>\n",
       "      <td>4</td>\n",
       "      <td>5</td>\n",
       "      <td>2012.833</td>\n",
       "      <td>5.0</td>\n",
       "      <td>390.56840</td>\n",
       "      <td>5</td>\n",
       "      <td>24.97937</td>\n",
       "      <td>121.54245</td>\n",
       "      <td>43.1</td>\n",
       "    </tr>\n",
       "  </tbody>\n",
       "</table>\n",
       "</div>"
      ],
      "text/plain": [
       "   No  Transaction date   Age  Distance from nearest MRT station  \\\n",
       "0   1          2012.917  32.0                           84.87882   \n",
       "1   2          2012.917  19.5                          306.59470   \n",
       "2   3          2013.583  13.3                          561.98450   \n",
       "3   4          2013.500  13.3                          561.98450   \n",
       "4   5          2012.833   5.0                          390.56840   \n",
       "\n",
       "   No. of convenience stores  Latitude  Longitude  Price/Area  \n",
       "0                         10  24.98298  121.54024        37.9  \n",
       "1                          9  24.98034  121.53951        42.2  \n",
       "2                          5  24.98746  121.54391        47.3  \n",
       "3                          5  24.98746  121.54391        54.8  \n",
       "4                          5  24.97937  121.54245        43.1  "
      ]
     },
     "execution_count": 11,
     "metadata": {},
     "output_type": "execute_result"
    }
   ],
   "source": [
    "df.head()"
   ]
  },
  {
   "cell_type": "markdown",
   "metadata": {},
   "source": [
    "##### 4. Dropping irrelevent attributes"
   ]
  },
  {
   "cell_type": "markdown",
   "metadata": {},
   "source": [
    "Dropping irrelevent features like 'No' and 'Transaction date' which do not help in analysis."
   ]
  },
  {
   "cell_type": "code",
   "execution_count": 149,
   "metadata": {},
   "outputs": [],
   "source": [
    "df_new.drop(['No','Transaction date'], axis = 1, inplace = True)"
   ]
  },
  {
   "cell_type": "code",
   "execution_count": 13,
   "metadata": {},
   "outputs": [
    {
     "data": {
      "text/html": [
       "<div>\n",
       "<style scoped>\n",
       "    .dataframe tbody tr th:only-of-type {\n",
       "        vertical-align: middle;\n",
       "    }\n",
       "\n",
       "    .dataframe tbody tr th {\n",
       "        vertical-align: top;\n",
       "    }\n",
       "\n",
       "    .dataframe thead th {\n",
       "        text-align: right;\n",
       "    }\n",
       "</style>\n",
       "<table border=\"1\" class=\"dataframe\">\n",
       "  <thead>\n",
       "    <tr style=\"text-align: right;\">\n",
       "      <th></th>\n",
       "      <th>Age</th>\n",
       "      <th>Distance from nearest MRT station</th>\n",
       "      <th>No. of convenience stores</th>\n",
       "      <th>Latitude</th>\n",
       "      <th>Longitude</th>\n",
       "      <th>Price/Area</th>\n",
       "      <th>Year</th>\n",
       "    </tr>\n",
       "  </thead>\n",
       "  <tbody>\n",
       "    <tr>\n",
       "      <td>0</td>\n",
       "      <td>32.0</td>\n",
       "      <td>84.87882</td>\n",
       "      <td>10</td>\n",
       "      <td>24.98298</td>\n",
       "      <td>121.54024</td>\n",
       "      <td>37.9</td>\n",
       "      <td>2012</td>\n",
       "    </tr>\n",
       "    <tr>\n",
       "      <td>1</td>\n",
       "      <td>19.5</td>\n",
       "      <td>306.59470</td>\n",
       "      <td>9</td>\n",
       "      <td>24.98034</td>\n",
       "      <td>121.53951</td>\n",
       "      <td>42.2</td>\n",
       "      <td>2012</td>\n",
       "    </tr>\n",
       "    <tr>\n",
       "      <td>2</td>\n",
       "      <td>13.3</td>\n",
       "      <td>561.98450</td>\n",
       "      <td>5</td>\n",
       "      <td>24.98746</td>\n",
       "      <td>121.54391</td>\n",
       "      <td>47.3</td>\n",
       "      <td>2013</td>\n",
       "    </tr>\n",
       "    <tr>\n",
       "      <td>3</td>\n",
       "      <td>13.3</td>\n",
       "      <td>561.98450</td>\n",
       "      <td>5</td>\n",
       "      <td>24.98746</td>\n",
       "      <td>121.54391</td>\n",
       "      <td>54.8</td>\n",
       "      <td>2013</td>\n",
       "    </tr>\n",
       "    <tr>\n",
       "      <td>4</td>\n",
       "      <td>5.0</td>\n",
       "      <td>390.56840</td>\n",
       "      <td>5</td>\n",
       "      <td>24.97937</td>\n",
       "      <td>121.54245</td>\n",
       "      <td>43.1</td>\n",
       "      <td>2012</td>\n",
       "    </tr>\n",
       "  </tbody>\n",
       "</table>\n",
       "</div>"
      ],
      "text/plain": [
       "    Age  Distance from nearest MRT station  No. of convenience stores  \\\n",
       "0  32.0                           84.87882                         10   \n",
       "1  19.5                          306.59470                          9   \n",
       "2  13.3                          561.98450                          5   \n",
       "3  13.3                          561.98450                          5   \n",
       "4   5.0                          390.56840                          5   \n",
       "\n",
       "   Latitude  Longitude  Price/Area  Year  \n",
       "0  24.98298  121.54024        37.9  2012  \n",
       "1  24.98034  121.53951        42.2  2012  \n",
       "2  24.98746  121.54391        47.3  2013  \n",
       "3  24.98746  121.54391        54.8  2013  \n",
       "4  24.97937  121.54245        43.1  2012  "
      ]
     },
     "execution_count": 13,
     "metadata": {},
     "output_type": "execute_result"
    }
   ],
   "source": [
    "#New dataset\n",
    "df_new.head()"
   ]
  },
  {
   "cell_type": "markdown",
   "metadata": {},
   "source": [
    "##### 5. Dropping Duplicate rows"
   ]
  },
  {
   "cell_type": "markdown",
   "metadata": {},
   "source": [
    "Removing duplicate rows from dataset which have same Age, Distance from nearest MRT station, No. of convenience stores and Year."
   ]
  },
  {
   "cell_type": "code",
   "execution_count": 150,
   "metadata": {},
   "outputs": [],
   "source": [
    "df_new = df_new[df_new.duplicated(['Age', 'Distance from nearest MRT station', 'No. of convenience stores',\\\n",
    "                                   'Year']) == False]"
   ]
  },
  {
   "cell_type": "code",
   "execution_count": 151,
   "metadata": {},
   "outputs": [],
   "source": [
    "df_new = df_new.reset_index(drop = True)"
   ]
  },
  {
   "cell_type": "code",
   "execution_count": 16,
   "metadata": {},
   "outputs": [
    {
     "name": "stdout",
     "output_type": "stream",
     "text": [
      "After removing duplicate rows there are 364 rows and 7 columns in dataset\n"
     ]
    }
   ],
   "source": [
    "print(f'After removing duplicate rows there are {df_new.shape[0]} rows and {df_new.shape[1]} columns in dataset')"
   ]
  },
  {
   "cell_type": "markdown",
   "metadata": {},
   "source": [
    "### Exploratory Data Analysis"
   ]
  },
  {
   "cell_type": "code",
   "execution_count": 152,
   "metadata": {},
   "outputs": [
    {
     "name": "stdout",
     "output_type": "stream",
     "text": [
      "First five rows of dataset\n"
     ]
    },
    {
     "data": {
      "text/html": [
       "<div>\n",
       "<style scoped>\n",
       "    .dataframe tbody tr th:only-of-type {\n",
       "        vertical-align: middle;\n",
       "    }\n",
       "\n",
       "    .dataframe tbody tr th {\n",
       "        vertical-align: top;\n",
       "    }\n",
       "\n",
       "    .dataframe thead th {\n",
       "        text-align: right;\n",
       "    }\n",
       "</style>\n",
       "<table border=\"1\" class=\"dataframe\">\n",
       "  <thead>\n",
       "    <tr style=\"text-align: right;\">\n",
       "      <th></th>\n",
       "      <th>Age</th>\n",
       "      <th>Distance from nearest MRT station</th>\n",
       "      <th>No. of convenience stores</th>\n",
       "      <th>Latitude</th>\n",
       "      <th>Longitude</th>\n",
       "      <th>Price/Area</th>\n",
       "      <th>Year</th>\n",
       "    </tr>\n",
       "  </thead>\n",
       "  <tbody>\n",
       "    <tr>\n",
       "      <td>0</td>\n",
       "      <td>32.0</td>\n",
       "      <td>84.87882</td>\n",
       "      <td>10</td>\n",
       "      <td>24.98298</td>\n",
       "      <td>121.54024</td>\n",
       "      <td>37.9</td>\n",
       "      <td>2012</td>\n",
       "    </tr>\n",
       "    <tr>\n",
       "      <td>1</td>\n",
       "      <td>19.5</td>\n",
       "      <td>306.59470</td>\n",
       "      <td>9</td>\n",
       "      <td>24.98034</td>\n",
       "      <td>121.53951</td>\n",
       "      <td>42.2</td>\n",
       "      <td>2012</td>\n",
       "    </tr>\n",
       "    <tr>\n",
       "      <td>2</td>\n",
       "      <td>13.3</td>\n",
       "      <td>561.98450</td>\n",
       "      <td>5</td>\n",
       "      <td>24.98746</td>\n",
       "      <td>121.54391</td>\n",
       "      <td>47.3</td>\n",
       "      <td>2013</td>\n",
       "    </tr>\n",
       "    <tr>\n",
       "      <td>3</td>\n",
       "      <td>5.0</td>\n",
       "      <td>390.56840</td>\n",
       "      <td>5</td>\n",
       "      <td>24.97937</td>\n",
       "      <td>121.54245</td>\n",
       "      <td>43.1</td>\n",
       "      <td>2012</td>\n",
       "    </tr>\n",
       "    <tr>\n",
       "      <td>4</td>\n",
       "      <td>7.1</td>\n",
       "      <td>2175.03000</td>\n",
       "      <td>3</td>\n",
       "      <td>24.96305</td>\n",
       "      <td>121.51254</td>\n",
       "      <td>32.1</td>\n",
       "      <td>2012</td>\n",
       "    </tr>\n",
       "  </tbody>\n",
       "</table>\n",
       "</div>"
      ],
      "text/plain": [
       "    Age  Distance from nearest MRT station  No. of convenience stores  \\\n",
       "0  32.0                           84.87882                         10   \n",
       "1  19.5                          306.59470                          9   \n",
       "2  13.3                          561.98450                          5   \n",
       "3   5.0                          390.56840                          5   \n",
       "4   7.1                         2175.03000                          3   \n",
       "\n",
       "   Latitude  Longitude  Price/Area  Year  \n",
       "0  24.98298  121.54024        37.9  2012  \n",
       "1  24.98034  121.53951        42.2  2012  \n",
       "2  24.98746  121.54391        47.3  2013  \n",
       "3  24.97937  121.54245        43.1  2012  \n",
       "4  24.96305  121.51254        32.1  2012  "
      ]
     },
     "execution_count": 152,
     "metadata": {},
     "output_type": "execute_result"
    }
   ],
   "source": [
    "#First five rows of datset\n",
    "print('First five rows of dataset')\n",
    "df_new.head()"
   ]
  },
  {
   "cell_type": "code",
   "execution_count": 269,
   "metadata": {},
   "outputs": [
    {
     "name": "stdout",
     "output_type": "stream",
     "text": [
      "Distribution of features\n"
     ]
    },
    {
     "data": {
      "text/plain": [
       "Text(0.5, 0.98, 'Distribution of Features')"
      ]
     },
     "execution_count": 269,
     "metadata": {},
     "output_type": "execute_result"
    },
    {
     "data": {
      "image/png": "[encoded data removed]",
      "text/plain": [
       "<Figure size 720x576 with 4 Axes>"
      ]
     },
     "metadata": {
      "needs_background": "light"
     },
     "output_type": "display_data"
    }
   ],
   "source": [
    "print('Distribution of features')\n",
    "#Distribution plot of features\n",
    "fig, axes = plt.subplots(2, 2, figsize = (10, 8))\n",
    "\n",
    "ax = sns.distplot(df['Age'], ax = axes[0][0], color = 'red')\n",
    "ax.set_xlabel('Age')\n",
    "\n",
    "ax = sns.distplot(df['Distance from nearest MRT station'], ax = axes[0][1], color = 'red')\n",
    "ax.set_xlabel('Distance from nearest MRT station')\n",
    "\n",
    "ax = sns.distplot(df['No. of convenience stores'], ax = axes[1][0], color = 'red')\n",
    "ax.set_xlabel('No. of convenience stores')\n",
    "\n",
    "ax = sns.distplot(df['Price/Area'], ax = axes[1][1], color = 'red')\n",
    "ax.set_xlabel('Price/Area')\n",
    "\n",
    "plt.suptitle('Distribution of Features')"
   ]
  },
  {
   "cell_type": "markdown",
   "metadata": {},
   "source": [
    "The distribution of age shows that in dataset the observations having Age between 20 to 30 is quite less. The distribution of Distance from nearest MRT station is skewed. The distribution of No. of convenient stores and Price / Area is quite normal."
   ]
  },
  {
   "cell_type": "code",
   "execution_count": 271,
   "metadata": {},
   "outputs": [
    {
     "name": "stdout",
     "output_type": "stream",
     "text": [
      "Average price of unit Area for houses\n"
     ]
    },
    {
     "data": {
      "text/plain": [
       "<matplotlib.legend.Legend at 0x145027f0>"
      ]
     },
     "execution_count": 271,
     "metadata": {},
     "output_type": "execute_result"
    },
    {
     "data": {
      "image/png": "[encoded data removed]",
      "text/plain": [
       "<Figure size 504x288 with 1 Axes>"
      ]
     },
     "metadata": {
      "needs_background": "light"
     },
     "output_type": "display_data"
    }
   ],
   "source": [
    "print('Average price of unit Area for houses')\n",
    "\n",
    "df_bar = df_new[['Price/Area', 'Year']].groupby('Year').mean()\n",
    "df_bar.plot(kind = 'bar', figsize = (7, 4))\n",
    "plt.title('Average Price/Area for houses')\n",
    "plt.legend([])"
   ]
  },
  {
   "cell_type": "markdown",
   "metadata": {},
   "source": [
    "The above plot shows that the average price of unit area of the property has got increased in year 2013 from year 2012."
   ]
  },
  {
   "cell_type": "code",
   "execution_count": 154,
   "metadata": {},
   "outputs": [],
   "source": [
    "#Grouping dataframe by Latitude, longitude and Year\n",
    "df_l = df_new[['Latitude', 'Longitude', 'Price/Area', 'Year']].groupby(['Latitude', 'Longitude', 'Year']).mean()\n",
    "df_l.reset_index(inplace = True)"
   ]
  },
  {
   "cell_type": "code",
   "execution_count": 155,
   "metadata": {},
   "outputs": [
    {
     "name": "stdout",
     "output_type": "stream",
     "text": [
      "Top 5 Positions having largest Price/Area in year 2012\n",
      "   Latitude  Longitude  Year  Price/Area\n",
      "0  24.95836  121.53756  2012        57.8\n",
      "1  24.97528  121.54541  2012        57.4\n",
      "2  24.98085  121.54391  2012        56.2\n",
      "3  24.98419  121.54243  2012        55.1\n",
      "4  24.98343  121.53762  2012        54.4\n",
      "\n",
      "Top 5 Positions having largest Price/Area in year 2013\n",
      "   Latitude  Longitude  Year  Price/Area\n",
      "0  24.97460  121.53046  2013       117.5\n",
      "1  24.97703  121.54265  2013        78.3\n",
      "2  24.97071  121.54069  2013        78.0\n",
      "3  24.96756  121.54230  2013        67.7\n",
      "4  24.97345  121.54093  2013        63.3\n"
     ]
    }
   ],
   "source": [
    "#Top 5 Positions in 2012 having largest Price/Area\n",
    "\n",
    "print(\"Top 5 Positions having largest Price/Area in year 2012\")\n",
    "print(df_l[df_l['Year'] == 2012].sort_values(by = 'Price/Area', ascending = False).head().reset_index(drop = True))\n",
    "\n",
    "print()\n",
    "\n",
    "#Top 5 Positions in 2013 having largest Price/Area\n",
    "\n",
    "print(\"Top 5 Positions having largest Price/Area in year 2013\")\n",
    "print(df_l[df_l['Year'] == 2013].sort_values(by = 'Price/Area', ascending = False).head().reset_index(drop = True))"
   ]
  },
  {
   "cell_type": "markdown",
   "metadata": {},
   "source": [
    "Both years do not intersect at any Location. In 2012 Location having Latitude and Longitude (24.95836, 121.53756) is having highest Price/Area. In 2013 Location having Latitude and Longitude (24.97460, 121.53046) is having highest Price/Area."
   ]
  },
  {
   "cell_type": "code",
   "execution_count": 156,
   "metadata": {},
   "outputs": [
    {
     "name": "stdout",
     "output_type": "stream",
     "text": [
      "Bottom 5 Positions having smallest Price/Area in year 2012\n",
      "   Latitude  Longitude  Year  Price/Area\n",
      "0  24.94297  121.50342  2012        15.0\n",
      "1  24.94235  121.50357  2012        14.7\n",
      "2  24.94960  121.53018  2012        13.8\n",
      "3  24.94968  121.53009  2012        13.7\n",
      "4  24.94925  121.49542  2012        13.2\n",
      "\n",
      "Bottom 5 Positions having smallest Price/Area in year 2013\n",
      "   Latitude  Longitude  Year  Price/Area\n",
      "0  24.93885  121.50383  2013        13.0\n",
      "1  24.94935  121.53046  2013        12.8\n",
      "2  24.94375  121.47883  2013        12.2\n",
      "3  24.95719  121.47353  2013        11.2\n",
      "4  24.96172  121.53812  2013         7.6\n"
     ]
    }
   ],
   "source": [
    "#Bottom 5 Positions in 2012 having smallest Price/Area\n",
    "\n",
    "print(\"Bottom 5 Positions having smallest Price/Area in year 2012\")\n",
    "print(df_l[df_l['Year'] == 2012].sort_values(by = 'Price/Area', ascending = False).tail().reset_index(drop = True))\n",
    "\n",
    "print()\n",
    "\n",
    "#Top 5 Positions in 2013 having largest Price/Area\n",
    "\n",
    "print(\"Bottom 5 Positions having smallest Price/Area in year 2013\")\n",
    "print(df_l[df_l['Year'] == 2013].sort_values(by = 'Price/Area', ascending = False).tail().reset_index(drop = True))"
   ]
  },
  {
   "cell_type": "markdown",
   "metadata": {},
   "source": [
    "Both years do not intersect at any Location. In 2012 Location having Latitude and Longitude (24.94925, 121.49542) is having smallest Price/Area. In 2013 Location having Latitude and Longitude (24.96172, 121.53812) is having smallest Price/Area."
   ]
  },
  {
   "cell_type": "markdown",
   "metadata": {},
   "source": [
    "#### Relationship between Distance from nearest MRT station and Average Price/Area"
   ]
  },
  {
   "cell_type": "markdown",
   "metadata": {},
   "source": [
    "Creating new feature Range that represents the distance of nearest MRT station in steps of 100."
   ]
  },
  {
   "cell_type": "code",
   "execution_count": 157,
   "metadata": {},
   "outputs": [],
   "source": [
    "#Range represents the range in 100m within which property has nearest MRT station\n",
    "df_new['Range'] = ((df_new['Distance from nearest MRT station'] + 50)/100).round() * 100"
   ]
  },
  {
   "cell_type": "code",
   "execution_count": 272,
   "metadata": {},
   "outputs": [
    {
     "data": {
      "text/plain": [
       "Text(0.5, 1.0, 'Distribution of Price according to range(metres)')"
      ]
     },
     "execution_count": 272,
     "metadata": {},
     "output_type": "execute_result"
    },
    {
     "data": {
      "image/png": "[encoded data removed]",
      "text/plain": [
       "<Figure size 1152x504 with 1 Axes>"
      ]
     },
     "metadata": {
      "needs_background": "light"
     },
     "output_type": "display_data"
    }
   ],
   "source": [
    "#Grouping observations according to range and finding mean Price/Area\n",
    "df_m = df_new[['Range', 'Price/Area']].groupby('Range').mean()\n",
    "\n",
    "#Plotting bar graph\n",
    "df_m.plot(kind = 'bar', figsize =(16,7))\n",
    "plt.title('Distribution of Price according to range(metres)')"
   ]
  },
  {
   "cell_type": "markdown",
   "metadata": {},
   "source": [
    "From the above plot it can be inferred that with every 100m increase in distance to nearest MRT station Price/Value decreases. But there are also some special cases where average Price/Value is also large for larger distance like for 3100m to 4100m."
   ]
  },
  {
   "cell_type": "markdown",
   "metadata": {},
   "source": [
    "### Modelling"
   ]
  },
  {
   "cell_type": "markdown",
   "metadata": {},
   "source": [
    "#### Determining Normality of Target Variable"
   ]
  },
  {
   "cell_type": "markdown",
   "metadata": {},
   "source": [
    "###### 1. Visually"
   ]
  },
  {
   "cell_type": "code",
   "execution_count": 35,
   "metadata": {},
   "outputs": [
    {
     "data": {
      "text/plain": [
       "<matplotlib.axes._subplots.AxesSubplot at 0x1077cab0>"
      ]
     },
     "execution_count": 35,
     "metadata": {},
     "output_type": "execute_result"
    },
    {
     "data": {
      "image/png": "[encoded data removed]",
      "text/plain": [
       "<Figure size 432x288 with 1 Axes>"
      ]
     },
     "metadata": {
      "needs_background": "light"
     },
     "output_type": "display_data"
    }
   ],
   "source": [
    "df_new['Price/Area'].hist()"
   ]
  },
  {
   "cell_type": "markdown",
   "metadata": {},
   "source": [
    "It does look normal."
   ]
  },
  {
   "cell_type": "markdown",
   "metadata": {},
   "source": [
    "###### 2. Statistical Test"
   ]
  },
  {
   "cell_type": "code",
   "execution_count": 36,
   "metadata": {},
   "outputs": [
    {
     "data": {
      "text/plain": [
       "NormaltestResult(statistic=2.5108032516775682, pvalue=0.2849613773865552)"
      ]
     },
     "execution_count": 36,
     "metadata": {},
     "output_type": "execute_result"
    }
   ],
   "source": [
    "from scipy.stats.mstats import normaltest\n",
    "\n",
    "normaltest(df_new['Price/Area'])"
   ]
  },
  {
   "cell_type": "markdown",
   "metadata": {},
   "source": [
    "The p-value is greater than 0.05 so we fail to reject the null hypothesis that it is normal. So, target variable is normal."
   ]
  },
  {
   "cell_type": "markdown",
   "metadata": {},
   "source": [
    "### Testing Regression"
   ]
  },
  {
   "cell_type": "code",
   "execution_count": 162,
   "metadata": {},
   "outputs": [],
   "source": [
    "#Importing libraries\n",
    "from sklearn.linear_model import LinearRegression,Ridge,Lasso\n",
    "from sklearn.metrics import r2_score\n",
    "from sklearn.model_selection import train_test_split\n",
    "from sklearn.preprocessing import (StandardScaler, PolynomialFeatures)\n",
    "from sklearn.model_selection import GridSearchCV, cross_val_predict, KFold\n",
    "from sklearn.pipeline import Pipeline"
   ]
  },
  {
   "cell_type": "code",
   "execution_count": 333,
   "metadata": {},
   "outputs": [],
   "source": [
    "#Storing X\n",
    "X = df_new.drop(['Price/Area', 'Latitude', 'Longitude', 'Range'], axis = 1)\n",
    "#Storing y\n",
    "y = df_new['Price/Area']"
   ]
  },
  {
   "cell_type": "markdown",
   "metadata": {},
   "source": [
    "#### Baseline: Linear Regression"
   ]
  },
  {
   "cell_type": "code",
   "execution_count": 334,
   "metadata": {},
   "outputs": [],
   "source": [
    "#Using KFold for using cross validation\n",
    "kf = KFold(shuffle = True, random_state = 42, n_splits = 3)"
   ]
  },
  {
   "cell_type": "code",
   "execution_count": 336,
   "metadata": {},
   "outputs": [
    {
     "name": "stdout",
     "output_type": "stream",
     "text": [
      "R2 score for Baseline Linear Regression is  0.524339082629021\n"
     ]
    }
   ],
   "source": [
    "#Using cross validation to find R2 score\n",
    "\n",
    "scores = []\n",
    "\n",
    "lr = LinearRegression()\n",
    "\n",
    "for train_index, test_index in kf.split(X):\n",
    "    X_train, X_test, y_train, y_test = (X.iloc[train_index,:],\n",
    "                                        X.iloc[test_index, :],\n",
    "                                        y[train_index],\n",
    "                                        y[test_index])\n",
    "    lr.fit(X_train, y_train)\n",
    "    scores.append(lr.score(X_test, y_test))\n",
    "    \n",
    "print('R2 score for Baseline Linear Regression is ',np.mean(scores))"
   ]
  },
  {
   "cell_type": "markdown",
   "metadata": {},
   "source": [
    "#### Polynomial Regression(Degree = 2)"
   ]
  },
  {
   "cell_type": "code",
   "execution_count": 337,
   "metadata": {},
   "outputs": [
    {
     "name": "stdout",
     "output_type": "stream",
     "text": [
      "R2 score for Polynomial Regression of degree 2 is 0.5902648469495535\n"
     ]
    }
   ],
   "source": [
    "#Instantiating polynomial regression object\n",
    "pr = PolynomialFeatures(degree = 2)\n",
    "\n",
    "scores = []\n",
    "\n",
    "lr = LinearRegression()\n",
    "\n",
    "for train_index, test_index in kf.split(X):\n",
    "    X_train, X_test, y_train, y_test = (X.iloc[train_index,:],\n",
    "                                        X.iloc[test_index, :],\n",
    "                                        y[train_index],\n",
    "                                        y[test_index])\n",
    "    \n",
    "    pr.fit(X_train)\n",
    "    X_train_pr = pr.transform(X_train)\n",
    "    X_test_pr = pr.transform(X_test)\n",
    "    lr.fit(X_train_pr, y_train)\n",
    "    scores.append(lr.score(X_test_pr, y_test))\n",
    "    \n",
    "print('R2 score for Polynomial Regression of degree 2 is', np.mean(scores))"
   ]
  },
  {
   "cell_type": "markdown",
   "metadata": {},
   "source": [
    "#### Polynomial Regression(Degree = 3)"
   ]
  },
  {
   "cell_type": "code",
   "execution_count": 338,
   "metadata": {},
   "outputs": [
    {
     "name": "stdout",
     "output_type": "stream",
     "text": [
      "R2 score for Polynomial Regression of degree 3 is 0.37798514715488524\n"
     ]
    }
   ],
   "source": [
    "#Instantiating polynomial regression object\n",
    "pr = PolynomialFeatures(degree = 3)\n",
    "\n",
    "scores = []\n",
    "\n",
    "lr = LinearRegression()\n",
    "\n",
    "for train_index, test_index in kf.split(X):\n",
    "    X_train, X_test, y_train, y_test = (X.iloc[train_index,:],\n",
    "                                        X.iloc[test_index, :],\n",
    "                                        y[train_index],\n",
    "                                        y[test_index])\n",
    "    \n",
    "    pr.fit(X_train)\n",
    "    X_train_pr = pr.transform(X_train)\n",
    "    X_test_pr = pr.transform(X_test)\n",
    "    lr.fit(X_train_pr, y_train)\n",
    "    scores.append(lr.score(X_test_pr, y_test))\n",
    "    \n",
    "print('R2 score for Polynomial Regression of degree 3 is', np.mean(scores))"
   ]
  },
  {
   "cell_type": "markdown",
   "metadata": {},
   "source": [
    "Since R2 score of model with polynomial features with degree 2 is greater, we will tune it to achive higher accuracy."
   ]
  },
  {
   "cell_type": "markdown",
   "metadata": {},
   "source": [
    "#### Lasso Regression"
   ]
  },
  {
   "cell_type": "code",
   "execution_count": 339,
   "metadata": {},
   "outputs": [],
   "source": [
    "#Instantiating polynomial regression object\n",
    "pr = PolynomialFeatures(degree = 2, include_bias = False)\n",
    "\n",
    "scores = []\n",
    "\n",
    "alphas = np.geomspace(0.001, 10, 5)\n",
    "\n",
    "for alpha in alphas:\n",
    "    lasso = Lasso(alpha = alpha, max_iter = 1000000)\n",
    "    \n",
    "    estimator = Pipeline([('PolynomialFeatures' ,pr),\n",
    "                          ('scaler', StandardScaler()),\n",
    "                          ('Lasso',lasso)])\n",
    "    \n",
    "    estimator.fit(X, y)\n",
    "    predictions = cross_val_predict(estimator, X, y, cv = kf)\n",
    "    scores.append(r2_score(y, predictions))"
   ]
  },
  {
   "cell_type": "code",
   "execution_count": 340,
   "metadata": {},
   "outputs": [
    {
     "data": {
      "text/plain": [
       "Text(0, 0.5, 'Score')"
      ]
     },
     "execution_count": 340,
     "metadata": {},
     "output_type": "execute_result"
    },
    {
     "data": {
      "image/png": "[encoded data removed]",
      "text/plain": [
       "<Figure size 432x288 with 1 Axes>"
      ]
     },
     "metadata": {
      "needs_background": "light"
     },
     "output_type": "display_data"
    }
   ],
   "source": [
    "plt.semilogx(alphas,scores)\n",
    "plt.title('Lasso Regression: Alphas v\\s Score')\n",
    "plt.xlabel('Alpha')\n",
    "plt.ylabel('Score')"
   ]
  },
  {
   "cell_type": "code",
   "execution_count": 343,
   "metadata": {},
   "outputs": [
    {
     "name": "stdout",
     "output_type": "stream",
     "text": [
      "R2 score for Lasso Regression for alpha = 0.001 is  0.6059722423896299\n"
     ]
    }
   ],
   "source": [
    "#Training on best estimator\n",
    "best_estimator = Pipeline([('PolynomialFeatures' ,pr),\n",
    "                          ('scaler', StandardScaler()),\n",
    "                          ('Lasso',Lasso(alpha = 0.001, max_iter = 1000000))])\n",
    "\n",
    "best_estimator.fit(X,y)\n",
    "print('R2 score for Lasso Regression for alpha = 0.001 is ',best_estimator.score(X,y))"
   ]
  },
  {
   "cell_type": "markdown",
   "metadata": {},
   "source": [
    "The best model for prediction according to accuracy is Lasso Regression with hyperparameter alpha = 0.01. It gives a R2-score of about 0.60 i.e., 60% of the variability in outcome variable is explained by model."
   ]
  },
  {
   "cell_type": "code",
   "execution_count": 344,
   "metadata": {},
   "outputs": [],
   "source": [
    "#Plot of feature importance using Lasso coefficients\n",
    "df_imp = pd.DataFrame(zip(best_estimator.named_steps['PolynomialFeatures'].get_feature_names(input_features = X.columns),\\\n",
    "                 best_estimator.named_steps['Lasso'].coef_), columns = ['Feature', 'Importance'])"
   ]
  },
  {
   "cell_type": "code",
   "execution_count": 349,
   "metadata": {},
   "outputs": [
    {
     "data": {
      "text/plain": [
       "<matplotlib.legend.Legend at 0x147dac10>"
      ]
     },
     "execution_count": 349,
     "metadata": {},
     "output_type": "execute_result"
    },
    {
     "data": {
      "image/png": "[encoded data removed]",
      "text/plain": [
       "<Figure size 432x288 with 1 Axes>"
      ]
     },
     "metadata": {
      "needs_background": "light"
     },
     "output_type": "display_data"
    }
   ],
   "source": [
    "#Plotting df_imp\n",
    "df_imp[df_imp['Importance'] != 0].set_index('Feature').sort_values(by = 'Importance').plot(kind = 'bar')\n",
    "plt.title('Feature Importance')\n",
    "plt.ylabel('Importance')\n",
    "plt.legend([])"
   ]
  },
  {
   "cell_type": "markdown",
   "metadata": {},
   "source": [
    "### Conclusions"
   ]
  },
  {
   "cell_type": "markdown",
   "metadata": {},
   "source": [
    "The features which reduces the price per unit area of property are:\n",
    "1. Interaction of Year and Distance from nearest MRT station.\n",
    "2. Age.\n",
    "3. Interaction of No. of convenience stores and Distance from nearest MRT station.\n",
    "4. Square of No. of convenience stores\n",
    "\n",
    "The features that increases the price per unit area of property are:\n",
    "1. Square of Age.\n",
    "2. Square of Distance of Nearest MRT station\n",
    "3. No. of convenience stores.\n",
    "4. Interaction of Age and Distance from nearest MRT station.\n",
    "5. Interaction of No. of convenience stores and Age\n",
    "6. Year"
   ]
  },
  {
   "cell_type": "markdown",
   "metadata": {},
   "source": [
    "### Future Work"
   ]
  },
  {
   "cell_type": "markdown",
   "metadata": {},
   "source": [
    "The analysis can be extended by analysing the price values at different latitudes and longitudes, through spatial analysis by collecting more data. Modelling can be extended by trying more linear regression models like Ridge Regression which prevents overfitting."
   ]
  },
  {
   "cell_type": "code",
   "execution_count": 351,
   "metadata": {},
   "outputs": [
    {
     "data": {
      "text/html": [
       " <style>\n",
       "    @media print { \n",
       "    div.input {\n",
       "      display: none;\n",
       "      padding: 0;\n",
       "    }\n",
       "    div.output_prompt {\n",
       "      display: none;\n",
       "      padding: 0;\n",
       "    }\n",
       "    div.text_cell_render {\n",
       "      padding: 1pt;\n",
       "    }\n",
       "    div#notebook p,\n",
       "    div#notebook,\n",
       "    div#notebook li,\n",
       "    p {\n",
       "      font-size: 11pt;\n",
       "      line-height: 135%;\n",
       "      margin: 0;\n",
       "    }\n",
       "    .rendered_html h1,\n",
       "    .rendered_html h1:first-child {\n",
       "      font-size: 16pt;\n",
       "      margin: 7pt 0;\n",
       "    }\n",
       "    .rendered_html h2,\n",
       "    .rendered_html h2:first-child {\n",
       "      font-size: 14pt;\n",
       "      margin: 6pt 0;\n",
       "    }\n",
       "    .rendered_html h3,\n",
       "    .rendered_html h3:first-child {\n",
       "      font-size: 13pt;\n",
       "      margin: 6pt 0;\n",
       "    }\n",
       "    div.output_subarea {\n",
       "      padding: 0;\n",
       "    }\n",
       "  }\n",
       "  @page {\n",
       "      size: A4;\n",
       "  }\n",
       "  </style>\n"
      ],
      "text/plain": [
       "<IPython.core.display.HTML object>"
      ]
     },
     "metadata": {},
     "output_type": "display_data"
    }
   ],
   "source": [
    "\n",
    "%%html\n",
    " <style>\n",
    "    @media print { \n",
    "    div.input {\n",
    "      display: none;\n",
    "      padding: 0;\n",
    "    }\n",
    "    div.output_prompt {\n",
    "      display: none;\n",
    "      padding: 0;\n",
    "    }\n",
    "    div.text_cell_render {\n",
    "      padding: 1pt;\n",
    "    }\n",
    "    div#notebook p,\n",
    "    div#notebook,\n",
    "    div#notebook li,\n",
    "    p {\n",
    "      font-size: 11pt;\n",
    "      line-height: 135%;\n",
    "      margin: 0;\n",
    "    }\n",
    "    .rendered_html h1,\n",
    "    .rendered_html h1:first-child {\n",
    "      font-size: 16pt;\n",
    "      margin: 7pt 0;\n",
    "    }\n",
    "    .rendered_html h2,\n",
    "    .rendered_html h2:first-child {\n",
    "      font-size: 14pt;\n",
    "      margin: 6pt 0;\n",
    "    }\n",
    "    .rendered_html h3,\n",
    "    .rendered_html h3:first-child {\n",
    "      font-size: 13pt;\n",
    "      margin: 6pt 0;\n",
    "    }\n",
    "    div.output_subarea {\n",
    "      padding: 0;\n",
    "    }\n",
    "  }\n",
    "  @page {\n",
    "      size: A4;\n",
    "  }\n",
    "  </style>"
   ]
  }
 ],
 "metadata": {
  "kernelspec": {
   "display_name": "Python 3",
   "language": "python",
   "name": "python3"
  },
  "language_info": {
   "codemirror_mode": {
    "name": "ipython",
    "version": 3
   },
   "file_extension": ".py",
   "mimetype": "text/x-python",
   "name": "python",
   "nbconvert_exporter": "python",
   "pygments_lexer": "ipython3",
   "version": "3.7.4"
  }
 },
 "nbformat": 4,
 "nbformat_minor": 2
}
